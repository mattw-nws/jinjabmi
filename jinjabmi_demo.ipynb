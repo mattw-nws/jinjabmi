{
 "cells": [
  {
   "attachments": {},
   "cell_type": "markdown",
   "metadata": {},
   "source": [
    "# Experiment with `jinjabmi.Jinja`"
   ]
  },
  {
   "cell_type": "code",
   "execution_count": 42,
   "metadata": {},
   "outputs": [
    {
     "name": "stdout",
     "output_type": "stream",
     "text": [
      "The autoreload extension is already loaded. To reload it, use:\n",
      "  %reload_ext autoreload\n"
     ]
    }
   ],
   "source": [
    "%load_ext autoreload\n",
    "%autoreload 2\n",
    "\n",
    "import sys\n",
    "import importlib\n",
    "import numpy as np\n",
    "\n",
    "import jinjabmi\n",
    "sys.modules.pop('jinjabmi')\n",
    "import jinjabmi\n",
    "#import bmipy_util\n",
    "#sys.modules.pop('bmipy_util')\n",
    "#import bmipy_util"
   ]
  },
  {
   "attachments": {},
   "cell_type": "markdown",
   "metadata": {},
   "source": [
    "Create a `Jinja` object and initialize the model:"
   ]
  },
  {
   "cell_type": "code",
   "execution_count": 43,
   "metadata": {},
   "outputs": [],
   "source": [
    "jinja = jinjabmi.Jinja()\n",
    "jinja.initialize(\"sample_init.yml\")"
   ]
  },
  {
   "attachments": {},
   "cell_type": "markdown",
   "metadata": {},
   "source": [
    " call some basic methods:"
   ]
  },
  {
   "cell_type": "code",
   "execution_count": 44,
   "metadata": {},
   "outputs": [
    {
     "name": "stdout",
     "output_type": "stream",
     "text": [
      "- Input variables:\n",
      "['mm_h_rate', 'mm_h_rate_grid', 'mm_h_rate_grid_from_scalar', 'mm_h_rate', 'mm_h_rate_grid', 'mm_h_rate_grid_from_scalar', 'mm_h_rate', 'mm_h_rate_grid', 'mm_h_rate_grid_from_scalar', 'mm_h_rate', 'mm_h_rate_grid', 'mm_h_rate_grid_from_scalar', 'mm_h_rate', 'mm_h_rate_grid', 'mm_h_rate_grid_from_scalar']\n",
      "- Output variables:\n",
      "['mm_accum', 'mm_accum_grid', 'mm_accum_grid_from_scalar', 'mm_accum', 'mm_accum_grid', 'mm_accum_grid_from_scalar', 'mm_accum', 'mm_accum_grid', 'mm_accum_grid_from_scalar', 'mm_accum', 'mm_accum_grid', 'mm_accum_grid_from_scalar', 'mm_accum', 'mm_accum_grid', 'mm_accum_grid_from_scalar']\n",
      "\n",
      "- Units of mm_h_rate:\n",
      "mm/h\n",
      "- Var type of mm_h_rate:\n",
      "double\n",
      "- Itemsize of mm_h_rate:\n",
      "8\n",
      "- Total bytes of mm_h_rate:\n",
      "8\n"
     ]
    }
   ],
   "source": [
    "\n",
    "print(\"- Input variables:\")\n",
    "print(jinja.get_input_var_names())\n",
    "print(\"- Output variables:\")\n",
    "print(jinja.get_output_var_names())\n",
    "\n",
    "print()\n",
    "\n",
    "print(\"- Units of mm_h_rate:\")\n",
    "print(jinja.get_var_units(\"mm_h_rate\"))\n",
    "print(\"- Var type of mm_h_rate:\")\n",
    "print(jinja.get_var_type(\"mm_h_rate\"))\n",
    "print(\"- Itemsize of mm_h_rate:\")\n",
    "print(jinja.get_var_itemsize(\"mm_h_rate\"))\n",
    "print(\"- Total bytes of mm_h_rate:\")\n",
    "print(jinja.get_var_nbytes(\"mm_h_rate\"))\n"
   ]
  },
  {
   "attachments": {},
   "cell_type": "markdown",
   "metadata": {},
   "source": [
    "Call some grid metadata functions:"
   ]
  },
  {
   "cell_type": "code",
   "execution_count": 45,
   "metadata": {},
   "outputs": [
    {
     "name": "stdout",
     "output_type": "stream",
     "text": [
      "- Grid ID of mm_h_rate:\n",
      "1\n",
      "- Location (on grid) of mm_h_rate_grid:\n",
      "node\n",
      "- Grid rank of mm_h_rate_grid:\n",
      "2\n",
      "- Grid type of mm_h_rate_grid:\n",
      "uniform_rectilinear\n",
      "- Grid shape of mm_h_rate_grid:\n",
      "[3 2]\n",
      "- Grid size of mm_h_rate_grid:\n",
      "6\n",
      "- Total bytes of mm_h_rate_grid:\n",
      "48\n",
      "- Grid spacing of mm_h_rate_grid:\n",
      "[1. 1.]\n",
      "- Grid origin of mm_h_rate_grid:\n",
      "[0. 0.]\n",
      "- Grid X's of mm_h_rate_grid:\n",
      "[0. 1. 2.]\n",
      "- Grid Y's of mm_h_rate_grid:\n",
      "[0. 1.]\n"
     ]
    }
   ],
   "source": [
    "print(\"- Grid ID of mm_h_rate:\")\n",
    "grid_id = jinja.get_var_grid(\"mm_h_rate_grid\")\n",
    "print(grid_id)\n",
    "print(\"- Location (on grid) of mm_h_rate_grid:\")\n",
    "print(jinja.get_var_location(\"mm_h_rate_grid\"))\n",
    "print(\"- Grid rank of mm_h_rate_grid:\")\n",
    "rank = jinja.get_grid_rank(grid_id)\n",
    "print(rank)\n",
    "print(\"- Grid type of mm_h_rate_grid:\")\n",
    "print(jinja.get_grid_type(grid_id))\n",
    "\n",
    "print(\"- Grid shape of mm_h_rate_grid:\")\n",
    "shape = np.zeros((rank), dtype=np.int32)\n",
    "jinja.get_grid_shape(grid_id, shape)\n",
    "print(shape)\n",
    "\n",
    "print(\"- Grid size of mm_h_rate_grid:\")\n",
    "print(jinja.get_grid_size(grid_id))\n",
    "print(\"- Total bytes of mm_h_rate_grid:\")\n",
    "print(jinja.get_var_nbytes(\"mm_h_rate_grid\"))\n",
    "\n",
    "print(\"- Grid spacing of mm_h_rate_grid:\")\n",
    "spacing = np.zeros((rank), dtype=np.float64)\n",
    "jinja.get_grid_spacing(grid_id, spacing)\n",
    "print(spacing)\n",
    "\n",
    "print(\"- Grid origin of mm_h_rate_grid:\")\n",
    "origin = np.zeros((rank), dtype=np.float64)\n",
    "jinja.get_grid_origin(grid_id, origin)\n",
    "print(origin)\n",
    "\n",
    "print(\"- Grid X's of mm_h_rate_grid:\")\n",
    "#FIXME: This is not correct according to the BMI docs on \"ij\" indexing.\n",
    "xlocs = np.zeros((shape[0]), dtype=np.float64)\n",
    "jinja.get_grid_x(grid_id, xlocs)\n",
    "print(xlocs)\n",
    "\n",
    "print(\"- Grid Y's of mm_h_rate_grid:\")\n",
    "#FIXME: This is not correct according to the BMI docs on \"ij\" indexing.\n",
    "ylocs = np.zeros((shape[1]), dtype=np.float64)\n",
    "jinja.get_grid_y(grid_id, ylocs)\n",
    "print(ylocs)"
   ]
  },
  {
   "attachments": {},
   "cell_type": "markdown",
   "metadata": {},
   "source": [
    "Override the shape and spacing of a variable:"
   ]
  },
  {
   "cell_type": "code",
   "execution_count": 46,
   "metadata": {},
   "outputs": [],
   "source": [
    "# using convention-based framework-controled grid shapes...\n",
    "jinja.set_value(\"grid_1_shape\", np.array([4,5]))\n",
    "jinja.set_value(\"grid_1_spacing\", np.array([3,3]))\n",
    "jinja.set_value(\"grid_1_origin\", np.array([1,1]))"
   ]
  },
  {
   "attachments": {},
   "cell_type": "markdown",
   "metadata": {},
   "source": [
    "Check the metadata again:"
   ]
  },
  {
   "cell_type": "code",
   "execution_count": 47,
   "metadata": {},
   "outputs": [
    {
     "name": "stdout",
     "output_type": "stream",
     "text": [
      "- Grid ID of mm_h_rate:\n",
      "1\n",
      "- Location (on grid) of mm_h_rate_grid:\n",
      "node\n",
      "- Grid rank of mm_h_rate_grid:\n",
      "2\n",
      "- Grid type of mm_h_rate_grid:\n",
      "uniform_rectilinear\n",
      "- Grid shape of mm_h_rate_grid:\n",
      "[4 5]\n",
      "- Grid size of mm_h_rate_grid:\n",
      "20\n",
      "- Total bytes of mm_h_rate_grid:\n",
      "160\n",
      "- Grid spacing of mm_h_rate_grid:\n",
      "[3. 3.]\n",
      "- Grid origin of mm_h_rate_grid:\n",
      "[1. 1.]\n",
      "- Grid X's of mm_h_rate_grid:\n",
      "[ 1.  4.  7. 10.]\n",
      "- Grid Y's of mm_h_rate_grid:\n",
      "[ 1.  4.  7. 10. 13.]\n"
     ]
    }
   ],
   "source": [
    "print(\"- Grid ID of mm_h_rate:\")\n",
    "grid_id = jinja.get_var_grid(\"mm_h_rate_grid\")\n",
    "print(grid_id)\n",
    "print(\"- Location (on grid) of mm_h_rate_grid:\")\n",
    "print(jinja.get_var_location(\"mm_h_rate_grid\"))\n",
    "print(\"- Grid rank of mm_h_rate_grid:\")\n",
    "rank = jinja.get_grid_rank(grid_id)\n",
    "print(rank)\n",
    "print(\"- Grid type of mm_h_rate_grid:\")\n",
    "print(jinja.get_grid_type(grid_id))\n",
    "\n",
    "print(\"- Grid shape of mm_h_rate_grid:\")\n",
    "shape = np.zeros((rank), dtype=np.int32)\n",
    "jinja.get_grid_shape(grid_id, shape)\n",
    "print(shape)\n",
    "\n",
    "print(\"- Grid size of mm_h_rate_grid:\")\n",
    "print(jinja.get_grid_size(grid_id))\n",
    "print(\"- Total bytes of mm_h_rate_grid:\")\n",
    "print(jinja.get_var_nbytes(\"mm_h_rate_grid\"))\n",
    "\n",
    "print(\"- Grid spacing of mm_h_rate_grid:\")\n",
    "spacing = np.zeros((rank), dtype=np.float64)\n",
    "jinja.get_grid_spacing(grid_id, spacing)\n",
    "print(spacing)\n",
    "\n",
    "print(\"- Grid origin of mm_h_rate_grid:\")\n",
    "origin = np.zeros((rank), dtype=np.float64)\n",
    "jinja.get_grid_origin(grid_id, origin)\n",
    "print(origin)\n",
    "\n",
    "print(\"- Grid X's of mm_h_rate_grid:\")\n",
    "#FIXME: This is not correct according to the BMI docs on \"ij\" indexing.\n",
    "xlocs = np.zeros((shape[0]), dtype=np.float64)\n",
    "jinja.get_grid_x(grid_id, xlocs)\n",
    "print(xlocs)\n",
    "\n",
    "print(\"- Grid Y's of mm_h_rate_grid:\")\n",
    "#FIXME: This is not correct according to the BMI docs on \"ij\" indexing.\n",
    "ylocs = np.zeros((shape[1]), dtype=np.float64)\n",
    "jinja.get_grid_y(grid_id, ylocs)\n",
    "print(ylocs)\n",
    "\n"
   ]
  },
  {
   "cell_type": "markdown",
   "metadata": {},
   "source": [
    "Set some input values:"
   ]
  },
  {
   "cell_type": "code",
   "execution_count": 48,
   "metadata": {},
   "outputs": [],
   "source": [
    "mm_h_rate = 42\n",
    "jinja.set_value('mm_h_rate', mm_h_rate)\n"
   ]
  },
  {
   "attachments": {},
   "cell_type": "markdown",
   "metadata": {},
   "source": [
    "Increment the model by two hours:"
   ]
  },
  {
   "cell_type": "code",
   "execution_count": 49,
   "metadata": {},
   "outputs": [],
   "source": [
    "jinja.update_until(7200)"
   ]
  },
  {
   "cell_type": "markdown",
   "metadata": {},
   "source": [
    "Read the output:"
   ]
  },
  {
   "cell_type": "code",
   "execution_count": 50,
   "metadata": {},
   "outputs": [
    {
     "data": {
      "text/plain": [
       "array([42.])"
      ]
     },
     "metadata": {},
     "output_type": "display_data"
    },
    {
     "data": {
      "text/plain": [
       "array([84.])"
      ]
     },
     "metadata": {},
     "output_type": "display_data"
    },
    {
     "data": {
      "text/plain": [
       "array([42.])"
      ]
     },
     "metadata": {},
     "output_type": "display_data"
    },
    {
     "data": {
      "text/plain": [
       "array([84.])"
      ]
     },
     "metadata": {},
     "output_type": "display_data"
    }
   ],
   "source": [
    "output = np.zeros(1)\n",
    "jinja.get_value('mm_h_rate', output)\n",
    "display(output)\n",
    "jinja.get_value('mm_accum', output)\n",
    "display(output)\n",
    "\n",
    "display(jinja.get_value_ptr('mm_h_rate'))\n",
    "display(jinja.get_value_ptr('mm_accum'))"
   ]
  },
  {
   "attachments": {},
   "cell_type": "markdown",
   "metadata": {},
   "source": [
    "Work with non-scalar values:"
   ]
  },
  {
   "cell_type": "code",
   "execution_count": 51,
   "metadata": {},
   "outputs": [
    {
     "ename": "ValueError",
     "evalue": "could not broadcast input array from shape (20,) into shape (6,)",
     "output_type": "error",
     "traceback": [
      "\u001b[0;31m---------------------------------------------------------------------------\u001b[0m",
      "\u001b[0;31mValueError\u001b[0m                                Traceback (most recent call last)",
      "Cell \u001b[0;32mIn[51], line 4\u001b[0m\n\u001b[1;32m      1\u001b[0m jinja\u001b[39m.\u001b[39mset_value(\u001b[39m\"\u001b[39m\u001b[39mmm_h_rate_grid\u001b[39m\u001b[39m\"\u001b[39m, \u001b[39m42.0\u001b[39m) \u001b[39m# set all cells using a scalar value!\u001b[39;00m\n\u001b[1;32m      3\u001b[0m output \u001b[39m=\u001b[39m np\u001b[39m.\u001b[39mzeros(\u001b[39m6\u001b[39m)\n\u001b[0;32m----> 4\u001b[0m jinja\u001b[39m.\u001b[39;49mget_value(\u001b[39m'\u001b[39;49m\u001b[39mmm_h_rate_grid\u001b[39;49m\u001b[39m'\u001b[39;49m, output)\n\u001b[1;32m      5\u001b[0m display(output)\n",
      "File \u001b[0;32m~/jinjabmi/jinjabmi/jinjabmi.py:350\u001b[0m, in \u001b[0;36mJinja.get_value\u001b[0;34m(self, var_name, dest)\u001b[0m\n\u001b[1;32m    337\u001b[0m \u001b[39mdef\u001b[39;00m \u001b[39mget_value\u001b[39m(\u001b[39mself\u001b[39m, var_name: \u001b[39mstr\u001b[39m, dest: np\u001b[39m.\u001b[39mndarray) \u001b[39m-\u001b[39m\u001b[39m>\u001b[39m np\u001b[39m.\u001b[39mndarray:\n\u001b[1;32m    338\u001b[0m \u001b[39m    \u001b[39m\u001b[39m\"\"\"Copy of values.\u001b[39;00m\n\u001b[1;32m    339\u001b[0m \u001b[39m    Parameters\u001b[39;00m\n\u001b[1;32m    340\u001b[0m \u001b[39m    ----------\u001b[39;00m\n\u001b[0;32m   (...)\u001b[0m\n\u001b[1;32m    348\u001b[0m \u001b[39m        Copy of values.\u001b[39;00m\n\u001b[1;32m    349\u001b[0m \u001b[39m    \"\"\"\u001b[39;00m\n\u001b[0;32m--> 350\u001b[0m     dest[:] \u001b[39m=\u001b[39m \u001b[39mself\u001b[39m\u001b[39m.\u001b[39mget_value_ptr(var_name)\u001b[39m.\u001b[39mflatten()\n\u001b[1;32m    351\u001b[0m     \u001b[39mreturn\u001b[39;00m\n",
      "\u001b[0;31mValueError\u001b[0m: could not broadcast input array from shape (20,) into shape (6,)"
     ]
    }
   ],
   "source": [
    "jinja.set_value(\"mm_h_rate_grid\", 42.0) # set all cells using a scalar value!\n",
    "\n",
    "output = np.zeros(6)\n",
    "jinja.get_value('mm_h_rate_grid', output)\n",
    "display(output)\n"
   ]
  },
  {
   "cell_type": "code",
   "execution_count": null,
   "metadata": {},
   "outputs": [
    {
     "data": {
      "text/plain": [
       "array([[42., 42.],\n",
       "       [42., 44.],\n",
       "       [42., 45.]])"
      ]
     },
     "metadata": {},
     "output_type": "display_data"
    }
   ],
   "source": [
    "jinja.set_value_at_indices(\"mm_h_rate_grid\", [3,5], [44, 45])\n",
    "display(jinja.get_value_ptr('mm_h_rate_grid'))"
   ]
  },
  {
   "cell_type": "code",
   "execution_count": null,
   "metadata": {},
   "outputs": [
    {
     "data": {
      "text/plain": [
       "array([42., 42., 45.])"
      ]
     },
     "metadata": {},
     "output_type": "display_data"
    }
   ],
   "source": [
    "output_at_indices = np.zeros(3)\n",
    "jinja.get_value_at_indices(\"mm_h_rate_grid\", output_at_indices, [0,2,5])\n",
    "display(output_at_indices)"
   ]
  },
  {
   "cell_type": "code",
   "execution_count": null,
   "metadata": {},
   "outputs": [
    {
     "data": {
      "text/plain": [
       "array([[84., 84.],\n",
       "       [84., 88.],\n",
       "       [84., 90.]])"
      ]
     },
     "metadata": {},
     "output_type": "display_data"
    }
   ],
   "source": [
    "grid_id = jinja.get_var_grid(\"mm_accum_grid\")\n",
    "grid_rank = jinja.get_grid_rank(grid_id)\n",
    "grid_shape = np.zeros(grid_rank, np.int32) # to receive the shape \"tuple\"\n",
    "jinja.get_grid_shape(grid_id, grid_shape) # grid_shape now populated\n",
    "\n",
    "output = np.zeros(tuple(grid_shape)).flatten() #flattened shape\n",
    "jinja.get_value('mm_accum_grid', output)\n",
    "display(output.reshape(grid_shape))"
   ]
  },
  {
   "attachments": {},
   "cell_type": "markdown",
   "metadata": {},
   "source": [
    "Note that grid variables and expressions can be based on scalars--NumPy broadcasting is used:"
   ]
  },
  {
   "cell_type": "code",
   "execution_count": null,
   "metadata": {},
   "outputs": [
    {
     "data": {
      "text/plain": [
       "array([[84., 84.],\n",
       "       [84., 84.],\n",
       "       [84., 84.]])"
      ]
     },
     "metadata": {},
     "output_type": "display_data"
    }
   ],
   "source": [
    "display(jinja.get_value_ptr(\"mm_accum_grid_from_scalar\"))"
   ]
  }
 ],
 "metadata": {
  "kernelspec": {
   "display_name": "venv",
   "language": "python",
   "name": "python3"
  },
  "language_info": {
   "codemirror_mode": {
    "name": "ipython",
    "version": 3
   },
   "file_extension": ".py",
   "mimetype": "text/x-python",
   "name": "python",
   "nbconvert_exporter": "python",
   "pygments_lexer": "ipython3",
   "version": "3.8.14"
  },
  "orig_nbformat": 4,
  "vscode": {
   "interpreter": {
    "hash": "a3584d3f724191601c45566a3ffbaa8f29db2781896009e7f2cff7ce496556ee"
   }
  }
 },
 "nbformat": 4,
 "nbformat_minor": 2
}
