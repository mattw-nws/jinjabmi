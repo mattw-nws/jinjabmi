{
 "cells": [
  {
   "cell_type": "markdown",
   "metadata": {},
   "source": [
    "# Experiment with `jinjabmi.Jinja`"
   ]
  },
  {
   "cell_type": "markdown",
   "metadata": {},
   "source": [
    "The `jinjabmi.Jinja` module allows you to make simple BMI couplers, mediators, or even simple models by specifying simple expressions and a bit of metadata in a YAML config file."
   ]
  },
  {
   "cell_type": "code",
   "execution_count": 913,
   "metadata": {},
   "outputs": [
    {
     "name": "stdout",
     "output_type": "stream",
     "text": [
      "The autoreload extension is already loaded. To reload it, use:\n",
      "  %reload_ext autoreload\n"
     ]
    }
   ],
   "source": [
    "%load_ext autoreload\n",
    "%autoreload 2\n",
    "\n",
    "import sys\n",
    "import importlib\n",
    "import numpy as np\n",
    "\n",
    "import jinjabmi\n",
    "sys.modules.pop('jinjabmi')\n",
    "import jinjabmi\n"
   ]
  },
  {
   "cell_type": "markdown",
   "metadata": {},
   "source": [
    "Create a `Jinja` object and initialize the model (see [sample_init.yml](./sample_init.yml)):"
   ]
  },
  {
   "cell_type": "code",
   "execution_count": 914,
   "metadata": {},
   "outputs": [],
   "source": [
    "jinja = jinjabmi.Jinja()\n",
    "jinja.initialize(\"sample_init.yml\")"
   ]
  },
  {
   "cell_type": "markdown",
   "metadata": {},
   "source": [
    " call some basic methods:"
   ]
  },
  {
   "cell_type": "code",
   "execution_count": 915,
   "metadata": {},
   "outputs": [
    {
     "name": "stdout",
     "output_type": "stream",
     "text": [
      "- Input variables:\n",
      "['mm_h_rate', 'mm_h_rate_grid']\n",
      "- Output variables:\n",
      "['mm_accum', 'mm_accum_grid', 'mm_h_rate_grid_from_scalar', 'mm_accum_grid_from_scalar']\n",
      "\n",
      "- Units of mm_h_rate:\n",
      "mm/h\n",
      "- Var type of mm_h_rate:\n",
      "double\n",
      "- Itemsize of mm_h_rate:\n",
      "8\n",
      "- Total bytes of mm_h_rate:\n",
      "8\n"
     ]
    }
   ],
   "source": [
    "\n",
    "print(\"- Input variables:\")\n",
    "print(jinja.get_input_var_names())\n",
    "print(\"- Output variables:\")\n",
    "print(jinja.get_output_var_names())\n",
    "\n",
    "print()\n",
    "\n",
    "print(\"- Units of mm_h_rate:\")\n",
    "print(jinja.get_var_units(\"mm_h_rate\"))\n",
    "print(\"- Var type of mm_h_rate:\")\n",
    "print(jinja.get_var_type(\"mm_h_rate\"))\n",
    "print(\"- Itemsize of mm_h_rate:\")\n",
    "print(jinja.get_var_itemsize(\"mm_h_rate\"))\n",
    "print(\"- Total bytes of mm_h_rate:\")\n",
    "print(jinja.get_var_nbytes(\"mm_h_rate\"))\n"
   ]
  },
  {
   "cell_type": "markdown",
   "metadata": {},
   "source": [
    "All variables can be configured to be initialized to a static value or to a uniform distribution (in a `range`) or normal distribution (about a `mean` with a `stddev` and optionally truncated by a `range`).\n",
    "\n",
    "Look at the initizialization of constant scalar and random grid data:"
   ]
  },
  {
   "cell_type": "code",
   "execution_count": 916,
   "metadata": {},
   "outputs": [
    {
     "data": {
      "text/plain": [
       "array([5.])"
      ]
     },
     "metadata": {},
     "output_type": "display_data"
    },
    {
     "data": {
      "text/plain": [
       "array([[5.60943416, 2.92003179],\n",
       "       [6.50090239, 6.88112943],\n",
       "       [1.09792962, 2.39564099]])"
      ]
     },
     "metadata": {},
     "output_type": "display_data"
    }
   ],
   "source": [
    "display(jinja.get_value_ptr(\"mm_h_rate\"))\n",
    "display(jinja.get_value_ptr(\"mm_h_rate_grid\"))"
   ]
  },
  {
   "cell_type": "markdown",
   "metadata": {},
   "source": [
    "Call some grid metadata functions:"
   ]
  },
  {
   "cell_type": "code",
   "execution_count": 917,
   "metadata": {},
   "outputs": [
    {
     "name": "stdout",
     "output_type": "stream",
     "text": [
      "- Grid ID of mm_h_rate:\n",
      "1\n",
      "- Location (on grid) of mm_h_rate_grid:\n",
      "node\n",
      "- Grid rank of mm_h_rate_grid:\n",
      "2\n",
      "- Grid type of mm_h_rate_grid:\n",
      "uniform_rectilinear\n",
      "- Grid shape of mm_h_rate_grid:\n",
      "[3 2]\n",
      "- Grid size of mm_h_rate_grid:\n",
      "6\n",
      "- Total bytes of mm_h_rate_grid:\n",
      "48\n",
      "- Grid spacing of mm_h_rate_grid:\n",
      "[1. 1.]\n",
      "- Grid origin of mm_h_rate_grid:\n",
      "[0. 0.]\n",
      "- Grid X's of mm_h_rate_grid:\n",
      "[0. 1. 2.]\n",
      "- Grid Y's of mm_h_rate_grid:\n",
      "[0. 1.]\n"
     ]
    }
   ],
   "source": [
    "print(\"- Grid ID of mm_h_rate:\")\n",
    "grid_id = jinja.get_var_grid(\"mm_h_rate_grid\")\n",
    "print(grid_id)\n",
    "print(\"- Location (on grid) of mm_h_rate_grid:\")\n",
    "print(jinja.get_var_location(\"mm_h_rate_grid\"))\n",
    "print(\"- Grid rank of mm_h_rate_grid:\")\n",
    "rank = jinja.get_grid_rank(grid_id)\n",
    "print(rank)\n",
    "print(\"- Grid type of mm_h_rate_grid:\")\n",
    "print(jinja.get_grid_type(grid_id))\n",
    "\n",
    "print(\"- Grid shape of mm_h_rate_grid:\")\n",
    "shape = np.zeros((rank), dtype=np.int32)\n",
    "jinja.get_grid_shape(grid_id, shape)\n",
    "print(shape)\n",
    "\n",
    "print(\"- Grid size of mm_h_rate_grid:\")\n",
    "print(jinja.get_grid_size(grid_id))\n",
    "print(\"- Total bytes of mm_h_rate_grid:\")\n",
    "print(jinja.get_var_nbytes(\"mm_h_rate_grid\"))\n",
    "\n",
    "print(\"- Grid spacing of mm_h_rate_grid:\")\n",
    "spacing = np.zeros((rank), dtype=np.float64)\n",
    "jinja.get_grid_spacing(grid_id, spacing)\n",
    "print(spacing)\n",
    "\n",
    "print(\"- Grid origin of mm_h_rate_grid:\")\n",
    "origin = np.zeros((rank), dtype=np.float64)\n",
    "jinja.get_grid_origin(grid_id, origin)\n",
    "print(origin)\n",
    "\n",
    "print(\"- Grid X's of mm_h_rate_grid:\")\n",
    "#FIXME: This is not correct according to the BMI docs on \"ij\" indexing.\n",
    "xlocs = np.zeros((shape[0]), dtype=np.float64)\n",
    "jinja.get_grid_x(grid_id, xlocs)\n",
    "print(xlocs)\n",
    "\n",
    "print(\"- Grid Y's of mm_h_rate_grid:\")\n",
    "#FIXME: This is not correct according to the BMI docs on \"ij\" indexing.\n",
    "ylocs = np.zeros((shape[1]), dtype=np.float64)\n",
    "jinja.get_grid_y(grid_id, ylocs)\n",
    "print(ylocs)"
   ]
  },
  {
   "cell_type": "markdown",
   "metadata": {},
   "source": [
    "Override the shape and spacing of a variable:"
   ]
  },
  {
   "cell_type": "code",
   "execution_count": 918,
   "metadata": {},
   "outputs": [],
   "source": [
    "# using convention-based framework-controled grid shapes...\n",
    "jinja.set_value(\"grid_1_shape\", np.array([4,5]))\n",
    "jinja.set_value(\"grid_1_spacing\", np.array([3,3]))\n",
    "jinja.set_value(\"grid_1_origin\", np.array([1,1]))"
   ]
  },
  {
   "cell_type": "markdown",
   "metadata": {},
   "source": [
    "Check the metadata again:"
   ]
  },
  {
   "cell_type": "code",
   "execution_count": 919,
   "metadata": {},
   "outputs": [
    {
     "name": "stdout",
     "output_type": "stream",
     "text": [
      "- Grid ID of mm_h_rate:\n",
      "1\n",
      "- Location (on grid) of mm_h_rate_grid:\n",
      "node\n",
      "- Grid rank of mm_h_rate_grid:\n",
      "2\n",
      "- Grid type of mm_h_rate_grid:\n",
      "uniform_rectilinear\n",
      "- Grid shape of mm_h_rate_grid:\n",
      "[4 5]\n",
      "- Grid size of mm_h_rate_grid:\n",
      "20\n",
      "- Total bytes of mm_h_rate_grid:\n",
      "160\n",
      "- Grid spacing of mm_h_rate_grid:\n",
      "[3. 3.]\n",
      "- Grid origin of mm_h_rate_grid:\n",
      "[1. 1.]\n",
      "- Grid X's of mm_h_rate_grid:\n",
      "[ 1.  4.  7. 10.]\n",
      "- Grid Y's of mm_h_rate_grid:\n",
      "[ 1.  4.  7. 10. 13.]\n"
     ]
    }
   ],
   "source": [
    "print(\"- Grid ID of mm_h_rate:\")\n",
    "grid_id = jinja.get_var_grid(\"mm_h_rate_grid\")\n",
    "print(grid_id)\n",
    "print(\"- Location (on grid) of mm_h_rate_grid:\")\n",
    "print(jinja.get_var_location(\"mm_h_rate_grid\"))\n",
    "print(\"- Grid rank of mm_h_rate_grid:\")\n",
    "rank = jinja.get_grid_rank(grid_id)\n",
    "print(rank)\n",
    "print(\"- Grid type of mm_h_rate_grid:\")\n",
    "print(jinja.get_grid_type(grid_id))\n",
    "\n",
    "print(\"- Grid shape of mm_h_rate_grid:\")\n",
    "shape = np.zeros((rank), dtype=np.int32)\n",
    "jinja.get_grid_shape(grid_id, shape)\n",
    "print(shape)\n",
    "\n",
    "print(\"- Grid size of mm_h_rate_grid:\")\n",
    "print(jinja.get_grid_size(grid_id))\n",
    "print(\"- Total bytes of mm_h_rate_grid:\")\n",
    "print(jinja.get_var_nbytes(\"mm_h_rate_grid\"))\n",
    "\n",
    "print(\"- Grid spacing of mm_h_rate_grid:\")\n",
    "spacing = np.zeros((rank), dtype=np.float64)\n",
    "jinja.get_grid_spacing(grid_id, spacing)\n",
    "print(spacing)\n",
    "\n",
    "print(\"- Grid origin of mm_h_rate_grid:\")\n",
    "origin = np.zeros((rank), dtype=np.float64)\n",
    "jinja.get_grid_origin(grid_id, origin)\n",
    "print(origin)\n",
    "\n",
    "print(\"- Grid X's of mm_h_rate_grid:\")\n",
    "#FIXME: This is not correct according to the BMI docs on \"ij\" indexing.\n",
    "xlocs = np.zeros((shape[0]), dtype=np.float64)\n",
    "jinja.get_grid_x(grid_id, xlocs)\n",
    "print(xlocs)\n",
    "\n",
    "print(\"- Grid Y's of mm_h_rate_grid:\")\n",
    "#FIXME: This is not correct according to the BMI docs on \"ij\" indexing.\n",
    "ylocs = np.zeros((shape[1]), dtype=np.float64)\n",
    "jinja.get_grid_y(grid_id, ylocs)\n",
    "print(ylocs)\n",
    "\n"
   ]
  },
  {
   "cell_type": "markdown",
   "metadata": {},
   "source": [
    "Note that grid data is reinitialized if the shape changes:"
   ]
  },
  {
   "cell_type": "code",
   "execution_count": 920,
   "metadata": {},
   "outputs": [
    {
     "data": {
      "text/plain": [
       "array([[5.60943416, 2.92003179, 6.50090239, 6.88112943, 1.09792962],\n",
       "       [2.39564099, 5.25568081, 4.36751482, 4.96639768, 3.29391214],\n",
       "       [6.75879595, 6.55558387, 5.1320614 , 7.25448241, 5.93501868],\n",
       "       [3.28141507, 5.73750157, 3.0822348 , 6.7569006 , 4.90014818]])"
      ]
     },
     "metadata": {},
     "output_type": "display_data"
    }
   ],
   "source": [
    "display(jinja.get_value_ptr(\"mm_h_rate_grid\"))"
   ]
  },
  {
   "cell_type": "markdown",
   "metadata": {},
   "source": [
    "Set some input values:"
   ]
  },
  {
   "cell_type": "code",
   "execution_count": 921,
   "metadata": {},
   "outputs": [],
   "source": [
    "mm_h_rate = 42\n",
    "jinja.set_value('mm_h_rate', mm_h_rate)\n"
   ]
  },
  {
   "cell_type": "markdown",
   "metadata": {},
   "source": [
    "Increment the model by two hours:"
   ]
  },
  {
   "cell_type": "code",
   "execution_count": 922,
   "metadata": {},
   "outputs": [],
   "source": [
    "jinja.update_until(7200)"
   ]
  },
  {
   "cell_type": "markdown",
   "metadata": {},
   "source": [
    "Read the output:"
   ]
  },
  {
   "cell_type": "code",
   "execution_count": 923,
   "metadata": {},
   "outputs": [
    {
     "data": {
      "text/plain": [
       "array([42.])"
      ]
     },
     "metadata": {},
     "output_type": "display_data"
    },
    {
     "data": {
      "text/plain": [
       "array([84.])"
      ]
     },
     "metadata": {},
     "output_type": "display_data"
    },
    {
     "data": {
      "text/plain": [
       "array([42.])"
      ]
     },
     "metadata": {},
     "output_type": "display_data"
    },
    {
     "data": {
      "text/plain": [
       "array([84.])"
      ]
     },
     "metadata": {},
     "output_type": "display_data"
    }
   ],
   "source": [
    "output = np.zeros(1)\n",
    "jinja.get_value('mm_h_rate', output)\n",
    "display(output)\n",
    "jinja.get_value('mm_accum', output)\n",
    "display(output)\n",
    "\n",
    "display(jinja.get_value_ptr('mm_h_rate'))\n",
    "display(jinja.get_value_ptr('mm_accum'))"
   ]
  },
  {
   "cell_type": "markdown",
   "metadata": {},
   "source": [
    "Work with non-scalar values:"
   ]
  },
  {
   "cell_type": "code",
   "execution_count": 924,
   "metadata": {},
   "outputs": [
    {
     "data": {
      "text/plain": [
       "array([42., 42., 42., 42., 42., 42., 42., 42., 42., 42., 42., 42., 42.,\n",
       "       42., 42., 42., 42., 42., 42., 42.])"
      ]
     },
     "metadata": {},
     "output_type": "display_data"
    }
   ],
   "source": [
    "jinja.set_value(\"mm_h_rate_grid\", 42.0) # set all cells using a scalar value!\n",
    "\n",
    "output = np.zeros(20)\n",
    "jinja.get_value('mm_h_rate_grid', output)\n",
    "display(output)\n"
   ]
  },
  {
   "cell_type": "code",
   "execution_count": 925,
   "metadata": {},
   "outputs": [
    {
     "data": {
      "text/plain": [
       "array([[42., 42., 42., 42.,  1.],\n",
       "       [42., 42., 42.,  2., 42.],\n",
       "       [42., 42.,  3., 42., 42.],\n",
       "       [42.,  4., 42., 42., 42.]])"
      ]
     },
     "metadata": {},
     "output_type": "display_data"
    }
   ],
   "source": [
    "jinja.set_value_at_indices(\"mm_h_rate_grid\", [4,8,12,16], [1, 2, 3, 4])\n",
    "display(jinja.get_value_ptr('mm_h_rate_grid'))"
   ]
  },
  {
   "cell_type": "code",
   "execution_count": 926,
   "metadata": {},
   "outputs": [
    {
     "data": {
      "text/plain": [
       "array([42.,  2., 42.])"
      ]
     },
     "metadata": {},
     "output_type": "display_data"
    }
   ],
   "source": [
    "output_at_indices = np.zeros(3)\n",
    "jinja.get_value_at_indices(\"mm_h_rate_grid\", output_at_indices, [2,8,14])\n",
    "display(output_at_indices)"
   ]
  },
  {
   "cell_type": "code",
   "execution_count": 927,
   "metadata": {},
   "outputs": [
    {
     "data": {
      "text/plain": [
       "array([[84., 84., 84., 84.,  2.],\n",
       "       [84., 84., 84.,  4., 84.],\n",
       "       [84., 84.,  6., 84., 84.],\n",
       "       [84.,  8., 84., 84., 84.]])"
      ]
     },
     "metadata": {},
     "output_type": "display_data"
    }
   ],
   "source": [
    "grid_id = jinja.get_var_grid(\"mm_accum_grid\")\n",
    "grid_rank = jinja.get_grid_rank(grid_id)\n",
    "grid_shape = np.zeros(grid_rank, np.int32) # to receive the shape \"tuple\"\n",
    "jinja.get_grid_shape(grid_id, grid_shape) # grid_shape now populated\n",
    "\n",
    "output = np.zeros(tuple(grid_shape)).flatten() #flattened shape\n",
    "jinja.get_value('mm_accum_grid', output)\n",
    "display(output.reshape(grid_shape))"
   ]
  },
  {
   "cell_type": "markdown",
   "metadata": {},
   "source": [
    "Note that grid variables and expressions can be based on scalars--NumPy broadcasting is used:"
   ]
  },
  {
   "cell_type": "code",
   "execution_count": 928,
   "metadata": {},
   "outputs": [
    {
     "data": {
      "text/plain": [
       "array([42.])"
      ]
     },
     "metadata": {},
     "output_type": "display_data"
    },
    {
     "data": {
      "text/plain": [
       "array([[84., 84., 84., 84., 84.],\n",
       "       [84., 84., 84., 84., 84.],\n",
       "       [84., 84., 84., 84., 84.],\n",
       "       [84., 84., 84., 84., 84.]])"
      ]
     },
     "metadata": {},
     "output_type": "display_data"
    }
   ],
   "source": [
    "display(jinja.get_value_ptr(\"mm_h_rate\"))\n",
    "display(jinja.get_value_ptr(\"mm_accum_grid_from_scalar\"))"
   ]
  },
  {
   "cell_type": "markdown",
   "metadata": {},
   "source": [
    "Try another config file ([water_density.yml](./water_density.yml))--note that an expression can be based on other expressions for reusability.\n",
    "\n",
    "Do precip depth to mass conversions:"
   ]
  },
  {
   "cell_type": "code",
   "execution_count": 929,
   "metadata": {},
   "outputs": [
    {
     "data": {
      "text/plain": [
       "array([998.26322623])"
      ]
     },
     "metadata": {},
     "output_type": "display_data"
    },
    {
     "data": {
      "text/plain": [
       "array([0.99826323])"
      ]
     },
     "metadata": {},
     "output_type": "display_data"
    },
    {
     "data": {
      "text/plain": [
       "array([0.00100174])"
      ]
     },
     "metadata": {},
     "output_type": "display_data"
    },
    {
     "data": {
      "text/plain": [
       "array([995.73859316])"
      ]
     },
     "metadata": {},
     "output_type": "display_data"
    },
    {
     "data": {
      "text/plain": [
       "array([0.99573859])"
      ]
     },
     "metadata": {},
     "output_type": "display_data"
    },
    {
     "data": {
      "text/plain": [
       "array([0.00100428])"
      ]
     },
     "metadata": {},
     "output_type": "display_data"
    }
   ],
   "source": [
    "jinja_wd = jinjabmi.Jinja()\n",
    "jinja_wd.initialize(\"water_density.yml\")\n",
    "\n",
    "jinja_wd.set_value(\"water_temp\", 20)\n",
    "\n",
    "display(jinja_wd.get_value_ptr(\"water_density_rho\"))\n",
    "\n",
    "jinja_wd.set_value(\"precip_depth_input\", 0.001)\n",
    "display(jinja_wd.get_value_ptr(\"precip_mass_per_area_output\"))\n",
    "\n",
    "jinja_wd.set_value(\"precip_mass_per_area_input\", 1.0)\n",
    "display(jinja_wd.get_value_ptr(\"precip_depth_output\"))\n",
    "\n",
    "jinja_wd.set_value(\"water_temp\", 30)\n",
    "\n",
    "display(jinja_wd.get_value_ptr(\"water_density_rho\"))\n",
    "\n",
    "jinja_wd.set_value(\"precip_depth_input\", 0.001)\n",
    "display(jinja_wd.get_value_ptr(\"precip_mass_per_area_output\"))\n",
    "\n",
    "jinja_wd.set_value(\"precip_mass_per_area_input\", 1.0)\n",
    "display(jinja_wd.get_value_ptr(\"precip_depth_output\"))\n"
   ]
  },
  {
   "cell_type": "markdown",
   "metadata": {},
   "source": [
    "Examine some further chained expressions:"
   ]
  },
  {
   "cell_type": "code",
   "execution_count": 930,
   "metadata": {},
   "outputs": [
    {
     "data": {
      "text/plain": [
       "array([1.99147719])"
      ]
     },
     "metadata": {},
     "output_type": "display_data"
    },
    {
     "data": {
      "text/plain": [
       "array([[1.99147719, 1.99147719, 1.99147719],\n",
       "       [1.99147719, 1.99147719, 1.99147719],\n",
       "       [1.99147719, 1.99147719, 1.99147719]])"
      ]
     },
     "metadata": {},
     "output_type": "display_data"
    }
   ],
   "source": [
    "jinja_wd.update_until(1800)\n",
    "\n",
    "display(jinja_wd.get_value_ptr(\"precip_mass_per_area_output_rate\"))\n",
    "\n",
    "display(jinja_wd.get_value_ptr(\"precip_mass_per_area_output_rate_on_grid\"))\n"
   ]
  },
  {
   "attachments": {},
   "cell_type": "markdown",
   "metadata": {},
   "source": [
    "Now, for another transform, let's convert wind speed (m/s) and direction (°) into UU and VV vector wind components."
   ]
  },
  {
   "cell_type": "code",
   "execution_count": 931,
   "metadata": {},
   "outputs": [
    {
     "name": "stdout",
     "output_type": "stream",
     "text": [
      "[7.43144825]\n",
      "[6.69130606]\n",
      "[7.43144825 6.69130606]\n",
      "[[[7.43144825 6.69130606]\n",
      "  [7.43144825 6.69130606]\n",
      "  [7.43144825 6.69130606]]\n",
      "\n",
      " [[7.43144825 6.69130606]\n",
      "  [7.43144825 6.69130606]\n",
      "  [7.43144825 6.69130606]]\n",
      "\n",
      " [[7.43144825 6.69130606]\n",
      "  [7.43144825 6.69130606]\n",
      "  [7.43144825 6.69130606]]]\n"
     ]
    }
   ],
   "source": [
    "jinja_wind = jinjabmi.Jinja()\n",
    "jinja_wind.initialize(\"wind_transform.yml\")\n",
    "\n",
    "jinja_wind.set_value(\"wind_speed_input\", 10)\n",
    "jinja_wind.set_value(\"wind_direction_input\", 42)\n",
    "\n",
    "print(jinja_wind.get_value_ptr(\"vector_wind_uu_output\"))\n",
    "print(jinja_wind.get_value_ptr(\"vector_wind_vv_output\"))\n",
    "\n",
    "print(jinja_wind.get_value_ptr(\"vector_wind_output\"))\n",
    "\n",
    "print(jinja_wind.get_value_ptr(\"vector_field_wind_output\"))"
   ]
  },
  {
   "attachments": {},
   "cell_type": "markdown",
   "metadata": {},
   "source": [
    "You can use a library (see [parameterized_sample_init.yml](./parameterized_sample_init.yml)) with constants and parameterizable functions:"
   ]
  },
  {
   "cell_type": "code",
   "execution_count": 932,
   "metadata": {},
   "outputs": [
    {
     "data": {
      "text/plain": [
       "array([5.67e-09])"
      ]
     },
     "metadata": {},
     "output_type": "display_data"
    },
    {
     "data": {
      "text/plain": [
       "array([10.])"
      ]
     },
     "metadata": {},
     "output_type": "display_data"
    },
    {
     "data": {
      "text/plain": [
       "array([14.])"
      ]
     },
     "metadata": {},
     "output_type": "display_data"
    }
   ],
   "source": [
    "jinja_lib = jinjabmi.Jinja()\n",
    "jinja_lib.initialize(\"parameterized_sample_init.yml\")\n",
    "\n",
    "display(jinja_lib.get_value_ptr(\"sbc\"))\n",
    "\n",
    "jinja_lib.update_until(7200)\n",
    "\n",
    "display(jinja_lib.get_value_ptr(\"mm_accum_1\"))\n",
    "display(jinja_lib.get_value_ptr(\"mm_accum_2\"))"
   ]
  }
 ],
 "metadata": {
  "kernelspec": {
   "display_name": "Python 3 (ipykernel)",
   "language": "python",
   "name": "python3"
  },
  "language_info": {
   "codemirror_mode": {
    "name": "ipython",
    "version": 3
   },
   "file_extension": ".py",
   "mimetype": "text/x-python",
   "name": "python",
   "nbconvert_exporter": "python",
   "pygments_lexer": "ipython3",
   "version": "3.9.12"
  },
  "vscode": {
   "interpreter": {
    "hash": "a3584d3f724191601c45566a3ffbaa8f29db2781896009e7f2cff7ce496556ee"
   }
  }
 },
 "nbformat": 4,
 "nbformat_minor": 2
}
